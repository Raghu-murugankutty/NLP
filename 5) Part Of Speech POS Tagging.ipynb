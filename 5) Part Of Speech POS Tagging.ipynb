{
 "cells": [
  {
   "cell_type": "markdown",
   "metadata": {},
   "source": [
    "## Part Of Speech POS Tagging\n",
    "\n",
    "Part of speech (POS) tagging is the process of marking each word in a text with its corresponding POS tag, such as noun, verb, adjective, etc. In spaCy, POS tagging is a built-in functionality that uses machine learning algorithms to predict the POS tag of each token (word or punctuation) in a sentence. spaCy's POS tagger is trained on a large corpus of text data and uses dependency parsing and named entity recognition to improve its accuracy. spaCy's POS tags are based on the universal POS tagset, which is a standardized set of POS tags that can be applied across different languages. Once POS tagging is performed, it is used in several NLP tasks such as Named Entity Recognition(NER), Text classification, etc."
   ]
  },
  {
   "cell_type": "code",
   "execution_count": 1,
   "metadata": {},
   "outputs": [
    {
     "name": "stdout",
     "output_type": "stream",
     "text": [
      "[+] Download and installation successful\n",
      "You can now load the package via spacy.load('en_core_web_lg')\n"
     ]
    }
   ],
   "source": [
    "!python -m spacy download en_core_web_lg  --quiet"
   ]
  },
  {
   "cell_type": "code",
   "execution_count": 2,
   "metadata": {},
   "outputs": [],
   "source": [
    "import spacy\n",
    "nlp = spacy.load(\"en_core_web_lg\")"
   ]
  },
  {
   "cell_type": "code",
   "execution_count": 3,
   "metadata": {},
   "outputs": [],
   "source": [
    "doc = nlp(\"Elon flew to mars yesterday. He carried biryani masala with him\")\n"
   ]
  },
  {
   "cell_type": "code",
   "execution_count": 7,
   "metadata": {},
   "outputs": [
    {
     "name": "stdout",
     "output_type": "stream",
     "text": [
      "Elon  |  PROPN  |  proper noun\n",
      "flew  |  VERB  |  verb\n",
      "to  |  ADP  |  adposition\n",
      "mars  |  PROPN  |  proper noun\n",
      "yesterday  |  NOUN  |  noun\n",
      ".  |  PUNCT  |  punctuation\n",
      "He  |  PRON  |  pronoun\n",
      "carried  |  VERB  |  verb\n",
      "biryani  |  PROPN  |  proper noun\n",
      "masala  |  NOUN  |  noun\n",
      "with  |  ADP  |  adposition\n",
      "him  |  PRON  |  pronoun\n"
     ]
    }
   ],
   "source": [
    "for tok in doc:\n",
    "    print(tok.text, \" | \", tok.pos_,  \" | \", spacy.explain(tok.pos_))"
   ]
  },
  {
   "cell_type": "markdown",
   "metadata": {},
   "source": [
    "### Tags"
   ]
  },
  {
   "cell_type": "code",
   "execution_count": 8,
   "metadata": {},
   "outputs": [],
   "source": [
    "doc = nlp(\"Wow! Dr. Strange made 265 million $ on the very first day\")"
   ]
  },
  {
   "cell_type": "code",
   "execution_count": 15,
   "metadata": {},
   "outputs": [
    {
     "name": "stdout",
     "output_type": "stream",
     "text": [
      "Wow  |  INTJ  |  interjection  |  UH  |  interjection\n",
      "!  |  PUNCT  |  punctuation  |  .  |  punctuation mark, sentence closer\n",
      "Dr.  |  PROPN  |  proper noun  |  NNP  |  noun, proper singular\n",
      "Strange  |  PROPN  |  proper noun  |  NNP  |  noun, proper singular\n",
      "made  |  VERB  |  verb  |  VBD  |  verb, past tense\n",
      "265  |  NUM  |  numeral  |  CD  |  cardinal number\n",
      "million  |  NUM  |  numeral  |  CD  |  cardinal number\n",
      "$  |  SYM  |  symbol  |  $  |  symbol, currency\n",
      "on  |  ADP  |  adposition  |  IN  |  conjunction, subordinating or preposition\n",
      "the  |  DET  |  determiner  |  DT  |  determiner\n",
      "very  |  ADV  |  adverb  |  RB  |  adverb\n",
      "first  |  ADJ  |  adjective  |  JJ  |  adjective (English), other noun-modifier (Chinese)\n",
      "day  |  NOUN  |  noun  |  NN  |  noun, singular or mass\n"
     ]
    }
   ],
   "source": [
    "for tok in doc:\n",
    "    print(tok.text, \" | \", tok.pos_, \" | \" , spacy.explain(tok.pos_),\" | \", tok.tag_,\" | \", spacy.explain(tok.tag_) )"
   ]
  },
  {
   "cell_type": "markdown",
   "metadata": {},
   "source": [
    "### In below sentences Spacy figures out the past vs present tense for quit"
   ]
  },
  {
   "cell_type": "code",
   "execution_count": 18,
   "metadata": {},
   "outputs": [
    {
     "name": "stdout",
     "output_type": "stream",
     "text": [
      "quits | VBZ | verb, 3rd person singular present\n"
     ]
    }
   ],
   "source": [
    "doc = nlp(\"He quits the job\")\n",
    "\n",
    "print(doc[1].text, \"|\", doc[1].tag_, \"|\", spacy.explain(doc[1].tag_))\n",
    "    "
   ]
  },
  {
   "cell_type": "code",
   "execution_count": 19,
   "metadata": {},
   "outputs": [
    {
     "name": "stdout",
     "output_type": "stream",
     "text": [
      "quit | VBD | verb, past tense\n"
     ]
    }
   ],
   "source": [
    "doc = nlp(\"He quit the job\")\n",
    "\n",
    "print(doc[1].text, \"|\", doc[1].tag_, \"|\", spacy.explain(doc[1].tag_))"
   ]
  },
  {
   "cell_type": "markdown",
   "metadata": {},
   "source": [
    "### Removing all SPACE, PUNCT and X token from text"
   ]
  },
  {
   "cell_type": "code",
   "execution_count": 23,
   "metadata": {},
   "outputs": [],
   "source": [
    "text = \"Natural Language Processing (NLP) is a branch of artificial intelligence (AI) that deals with the interaction between computers and humans using natural language. It involves the use of algorithms and computational techniques to analyze, understand, and generate human language. NLP is used to build systems that can perform tasks such as language translation, sentiment analysis, speech recognition, and text summarization. Some common applications of NLP include chatbots, virtual assistants, and language-enabled search engines.\""
   ]
  },
  {
   "cell_type": "code",
   "execution_count": 24,
   "metadata": {},
   "outputs": [],
   "source": [
    "doc = nlp(text)"
   ]
  },
  {
   "cell_type": "code",
   "execution_count": 25,
   "metadata": {},
   "outputs": [
    {
     "data": {
      "text/plain": [
       "Natural Language Processing (NLP) is a branch of artificial intelligence (AI) that deals with the interaction between computers and humans using natural language. It involves the use of algorithms and computational techniques to analyze, understand, and generate human language. NLP is used to build systems that can perform tasks such as language translation, sentiment analysis, speech recognition, and text summarization. Some common applications of NLP include chatbots, virtual assistants, and language-enabled search engines."
      ]
     },
     "execution_count": 25,
     "metadata": {},
     "output_type": "execute_result"
    }
   ],
   "source": [
    "doc"
   ]
  },
  {
   "cell_type": "code",
   "execution_count": 31,
   "metadata": {},
   "outputs": [
    {
     "name": "stdout",
     "output_type": "stream",
     "text": [
      "Natural | PROPN\n",
      "Language | PROPN\n",
      "Processing | PROPN\n",
      "( | PUNCT\n",
      "NLP | PROPN\n",
      ") | PUNCT\n",
      "is | AUX\n",
      "a | DET\n",
      "branch | NOUN\n",
      "of | ADP\n",
      "artificial | ADJ\n",
      "intelligence | NOUN\n",
      "( | PUNCT\n",
      "AI | PROPN\n",
      ") | PUNCT\n",
      "that | PRON\n",
      "deals | VERB\n",
      "with | ADP\n",
      "the | DET\n",
      "interaction | NOUN\n",
      "between | ADP\n",
      "computers | NOUN\n",
      "and | CCONJ\n",
      "humans | NOUN\n",
      "using | VERB\n",
      "natural | ADJ\n",
      "language | NOUN\n",
      ". | PUNCT\n",
      "It | PRON\n",
      "involves | VERB\n",
      "the | DET\n",
      "use | NOUN\n",
      "of | ADP\n",
      "algorithms | NOUN\n",
      "and | CCONJ\n",
      "computational | ADJ\n",
      "techniques | NOUN\n",
      "to | PART\n",
      "analyze | VERB\n",
      ", | PUNCT\n",
      "understand | VERB\n",
      ", | PUNCT\n",
      "and | CCONJ\n",
      "generate | VERB\n",
      "human | ADJ\n",
      "language | NOUN\n",
      ". | PUNCT\n",
      "NLP | NOUN\n",
      "is | AUX\n",
      "used | VERB\n",
      "to | PART\n",
      "build | VERB\n",
      "systems | NOUN\n",
      "that | PRON\n",
      "can | AUX\n",
      "perform | VERB\n",
      "tasks | NOUN\n",
      "such | ADJ\n",
      "as | ADP\n",
      "language | NOUN\n",
      "translation | NOUN\n",
      ", | PUNCT\n",
      "sentiment | NOUN\n",
      "analysis | NOUN\n",
      ", | PUNCT\n",
      "speech | NOUN\n",
      "recognition | NOUN\n",
      ", | PUNCT\n",
      "and | CCONJ\n",
      "text | NOUN\n",
      "summarization | NOUN\n",
      ". | PUNCT\n",
      "Some | DET\n",
      "common | ADJ\n",
      "applications | NOUN\n",
      "of | ADP\n",
      "NLP | NOUN\n",
      "include | VERB\n",
      "chatbots | NOUN\n",
      ", | PUNCT\n",
      "virtual | ADJ\n",
      "assistants | NOUN\n",
      ", | PUNCT\n",
      "and | CCONJ\n",
      "language | NOUN\n",
      "- | PUNCT\n",
      "enabled | VERB\n",
      "search | NOUN\n",
      "engines | NOUN\n",
      ". | PUNCT\n"
     ]
    }
   ],
   "source": [
    "for tok in doc[:100]:\n",
    "    print(tok.text,\"|\", tok.pos_)"
   ]
  },
  {
   "cell_type": "code",
   "execution_count": 35,
   "metadata": {},
   "outputs": [],
   "source": [
    "filtered_tok =[]\n",
    "\n",
    "for tok in doc:\n",
    "    if tok.pos_ not in [\"SPACE\", \"PUNCT\", \"X\"]:\n",
    "        filtered_tok.append(tok)     "
   ]
  },
  {
   "cell_type": "code",
   "execution_count": 36,
   "metadata": {},
   "outputs": [
    {
     "data": {
      "text/plain": [
       "[Natural,\n",
       " Language,\n",
       " Processing,\n",
       " NLP,\n",
       " is,\n",
       " a,\n",
       " branch,\n",
       " of,\n",
       " artificial,\n",
       " intelligence,\n",
       " AI,\n",
       " that,\n",
       " deals,\n",
       " with,\n",
       " the,\n",
       " interaction,\n",
       " between,\n",
       " computers,\n",
       " and,\n",
       " humans]"
      ]
     },
     "execution_count": 36,
     "metadata": {},
     "output_type": "execute_result"
    }
   ],
   "source": [
    "filtered_tok[:20]"
   ]
  },
  {
   "cell_type": "code",
   "execution_count": 38,
   "metadata": {},
   "outputs": [
    {
     "data": {
      "text/plain": [
       "{96: 5,\n",
       " 97: 16,\n",
       " 87: 3,\n",
       " 90: 4,\n",
       " 92: 28,\n",
       " 85: 6,\n",
       " 84: 7,\n",
       " 95: 3,\n",
       " 100: 11,\n",
       " 89: 5,\n",
       " 94: 2}"
      ]
     },
     "execution_count": 38,
     "metadata": {},
     "output_type": "execute_result"
    }
   ],
   "source": [
    "count = doc.count_by(spacy.attrs.POS)\n",
    "count"
   ]
  },
  {
   "cell_type": "code",
   "execution_count": 39,
   "metadata": {},
   "outputs": [
    {
     "data": {
      "text/plain": [
       "'PROPN'"
      ]
     },
     "execution_count": 39,
     "metadata": {},
     "output_type": "execute_result"
    }
   ],
   "source": [
    "doc.vocab[96].text"
   ]
  },
  {
   "cell_type": "code",
   "execution_count": 40,
   "metadata": {},
   "outputs": [
    {
     "name": "stdout",
     "output_type": "stream",
     "text": [
      "PROPN | 5\n",
      "PUNCT | 16\n",
      "AUX | 3\n",
      "DET | 4\n",
      "NOUN | 28\n",
      "ADP | 6\n",
      "ADJ | 7\n",
      "PRON | 3\n",
      "VERB | 11\n",
      "CCONJ | 5\n",
      "PART | 2\n"
     ]
    }
   ],
   "source": [
    "for k,v in count.items():\n",
    "    print(doc.vocab[k].text, \"|\",v)"
   ]
  },
  {
   "cell_type": "code",
   "execution_count": null,
   "metadata": {},
   "outputs": [],
   "source": []
  }
 ],
 "metadata": {
  "kernelspec": {
   "display_name": "Python 3",
   "language": "python",
   "name": "python3"
  },
  "language_info": {
   "codemirror_mode": {
    "name": "ipython",
    "version": 3
   },
   "file_extension": ".py",
   "mimetype": "text/x-python",
   "name": "python",
   "nbconvert_exporter": "python",
   "pygments_lexer": "ipython3",
   "version": "3.8.5"
  }
 },
 "nbformat": 4,
 "nbformat_minor": 4
}
